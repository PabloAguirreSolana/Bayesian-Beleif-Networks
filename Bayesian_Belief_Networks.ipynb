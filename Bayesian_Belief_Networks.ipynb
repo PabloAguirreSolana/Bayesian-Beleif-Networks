{
  "cells": [
    {
      "cell_type": "markdown",
      "metadata": {
        "id": "view-in-github",
        "colab_type": "text"
      },
      "source": [
        "<a href=\"https://colab.research.google.com/github/PabloAguirreSolana/Bayesian-Beleif-Networks/blob/main/Bayesian_Belief_Networks.ipynb\" target=\"_parent\"><img src=\"https://colab.research.google.com/assets/colab-badge.svg\" alt=\"Open In Colab\"/></a>"
      ]
    },
    {
      "cell_type": "markdown",
      "metadata": {
        "id": "5D5Eg762rzTQ"
      },
      "source": [
        "# **Using Bayesian Belief Networks to prove autocratic and democratic gobernment support in México using Latinobarómetro surveys (2018-2020)**"
      ]
    },
    {
      "cell_type": "markdown",
      "metadata": {
        "id": "yowNoofPrzTR"
      },
      "source": [
        "- This notebook aim is to provide the full code of a series of experiments that try to prove some hypothesis regarding the proness in mexican society to support an authoritarian regime vs a democractic one.\n",
        "\n",
        "- The data bases used for this experiment were taken from Latinobarómetro 2018 and 2020. The data frames used for this notebook, had been previously curated and treated to suit this experiements. *(A notebook in this repository is provided to check what type of wrangling we did)*.\n",
        "\n",
        "- The models of this notebook, do not pretend to be exahustive of a Probabilistic Bayesian Network, they are a baseline by which different evidence can be tested, depending on the variables included in the model.\n",
        "\n",
        "- As a probabalistic model, results are dependent on the complexity of the  network, their conditional and independence probabilities, thus, further proof is needed to consider this model as a causal model.\n",
        "\n",
        "- We suggest to interpret this model in terms of its directional probabilities given a series of conditions, that can change, if those conditions change."
      ]
    },
    {
      "cell_type": "code",
      "execution_count": null,
      "metadata": {
        "id": "aV3NZGb4rzTS",
        "outputId": "9671fb0e-ccc9-4068-b764-5060a04feade",
        "colab": {
          "base_uri": "https://localhost:8080/"
        }
      },
      "outputs": [
        {
          "output_type": "stream",
          "name": "stdout",
          "text": [
            "Requirement already satisfied: pybbn in /usr/local/lib/python3.10/dist-packages (3.2.3)\n",
            "Requirement already satisfied: numpy in /usr/local/lib/python3.10/dist-packages (from pybbn) (1.23.5)\n",
            "Requirement already satisfied: scipy in /usr/local/lib/python3.10/dist-packages (from pybbn) (1.10.1)\n",
            "Requirement already satisfied: networkx in /usr/local/lib/python3.10/dist-packages (from pybbn) (3.1)\n",
            "Requirement already satisfied: pandas in /usr/local/lib/python3.10/dist-packages (from pybbn) (1.5.3)\n",
            "Requirement already satisfied: python-dateutil>=2.8.1 in /usr/local/lib/python3.10/dist-packages (from pandas->pybbn) (2.8.2)\n",
            "Requirement already satisfied: pytz>=2020.1 in /usr/local/lib/python3.10/dist-packages (from pandas->pybbn) (2023.3)\n",
            "Requirement already satisfied: six>=1.5 in /usr/local/lib/python3.10/dist-packages (from python-dateutil>=2.8.1->pandas->pybbn) (1.16.0)\n"
          ]
        }
      ],
      "source": [
        "#Import the necessary libraries\n",
        "!pip install pybbn\n",
        "import pandas as pd\n",
        "from pybbn.graph.dag import Bbn\n",
        "from pybbn.graph.edge import Edge, EdgeType\n",
        "from pybbn.graph.jointree import EvidenceBuilder\n",
        "from pybbn.graph.node import BbnNode\n",
        "from pybbn.graph.variable import Variable\n",
        "from pybbn.pptc.inferencecontroller import InferenceController"
      ]
    },
    {
      "cell_type": "code",
      "execution_count": null,
      "metadata": {
        "id": "gY5AnWworzTT"
      },
      "outputs": [],
      "source": [
        "#Load files\n",
        "df18 = pd.read_excel('/content/df18.xlsx')\n",
        "df20 = pd.read_excel('/content/df20.xlsx')"
      ]
    },
    {
      "cell_type": "code",
      "execution_count": null,
      "metadata": {
        "id": "MIeN2jqOrzTT",
        "colab": {
          "base_uri": "https://localhost:8080/"
        },
        "outputId": "b942fa0c-47a7-4758-e86c-78ee078ea20a"
      },
      "outputs": [
        {
          "output_type": "stream",
          "name": "stdout",
          "text": [
            "Ciudad           0.0\n",
            "Edad             0.0\n",
            "Sexo             0.0\n",
            "DemAut           0.0\n",
            "Satdem           0.0\n",
            "Aprobpres        0.0\n",
            "ApoyoDem         0.0\n",
            "Partido          0.0\n",
            "Class            0.0\n",
            "Educ             0.0\n",
            "Benef            0.0\n",
            "Ciudad_Label     0.0\n",
            "Region           0.0\n",
            "Estado           0.0\n",
            "Localidad        0.0\n",
            "DemAut_cat       0.0\n",
            "Satdem_cat       0.0\n",
            "Aprobpres_cat    0.0\n",
            "ApoyoDem_cat     0.0\n",
            "Partido_cat      0.0\n",
            "dtype: float64\n",
            "Ciudad           0.0\n",
            "Edad             0.0\n",
            "Sexo             0.0\n",
            "DemAut           0.0\n",
            "Satdem           0.0\n",
            "Aprobpres        0.0\n",
            "ApoyoDem         0.0\n",
            "Partido          0.0\n",
            "Class            0.0\n",
            "Educ             0.0\n",
            "Benef            0.0\n",
            "Ciudad_Label     0.0\n",
            "Region           0.0\n",
            "Estado           0.0\n",
            "Localidad        0.0\n",
            "DemAut_cat       0.0\n",
            "Satdem_cat       0.0\n",
            "Aprobpres_cat    0.0\n",
            "ApoyoDem_cat     0.0\n",
            "Partido_cat      0.0\n",
            "dtype: float64\n"
          ]
        }
      ],
      "source": [
        "#For a simple sanity check, check if there are any missing value in the dataframe, BNN networks cannot handel NaNs.\n",
        "percentage_missing_values18 = (df18.isnull().sum() / len(df18)) * 100\n",
        "print(percentage_missing_values18)\n",
        "percentage_missing_values20 = (df18.isnull().sum() / len(df18)) * 100\n",
        "print(percentage_missing_values20)"
      ]
    },
    {
      "cell_type": "markdown",
      "metadata": {
        "id": "wgFHu6uNrzTT"
      },
      "source": [
        "- First we need to calculate the probabilities for each of the relations that we establish in the network, probabilities are nothing more\n",
        "than frequencies from contingency tables of the different combination each node has with its edges.\n",
        "\n",
        "- The probabilities calculated will be different for each data set, and for each combination of variables that will be included in the model."
      ]
    },
    {
      "cell_type": "markdown",
      "metadata": {
        "id": "jssJpvpprzTT"
      },
      "source": [
        "# Model_2020"
      ]
    },
    {
      "cell_type": "code",
      "execution_count": null,
      "metadata": {
        "id": "RVun-IQMrzTT"
      },
      "outputs": [],
      "source": [
        "# Probabilities for Model_1 2020\n",
        "# For our model we have the follwing probablities, each probability has to be transformed into a numpy array so that the network can be computed\n",
        "\n",
        "\n",
        "prob_a20 = pd.crosstab(df20['Satdem_cat'], 'Empty', margins = False,\n",
        "            normalize='columns').sort_index().to_numpy().reshape(-1).tolist()\n",
        "\n",
        "prob_b20 = pd.crosstab(df20['Satdem_cat'],df20['ApoyoDem_cat'],\n",
        "                 margins=False, normalize='index').sort_index().to_numpy().reshape(-1).tolist()\n",
        "\n",
        "\n",
        "prob_c20 = pd.crosstab([df20['ApoyoDem_cat'],df20['Partido_cat']],df20['DemAut_cat'],\n",
        "                 margins=False, normalize='index').sort_index().to_numpy().reshape(-1).tolist()\n",
        "\n",
        "prob_d20 = pd.crosstab(df20['Partido_cat'], 'Empty', margins = False,\n",
        "            normalize='columns').sort_index().to_numpy().reshape(-1).tolist()"
      ]
    },
    {
      "cell_type": "code",
      "execution_count": null,
      "metadata": {
        "id": "PUKOhmK-rzTT"
      },
      "outputs": [],
      "source": [
        "# Lets round the probabilities to two decimal points\n",
        "prob_a20 = [ round(elem, 2) for elem in prob_a20]\n",
        "prob_b20 = [ round(elem, 2) for elem in prob_b20]\n",
        "prob_c20 = [ round(elem, 2) for elem in prob_c20]\n",
        "prob_d20 = [ round(elem, 2) for elem in prob_d20]"
      ]
    },
    {
      "cell_type": "code",
      "execution_count": null,
      "metadata": {
        "id": "kQ9W0BmmrzTU",
        "colab": {
          "base_uri": "https://localhost:8080/"
        },
        "outputId": "3a8e3295-aaf0-45a6-a33e-1923ec416945"
      },
      "outputs": [
        {
          "output_type": "stream",
          "name": "stdout",
          "text": [
            "[0.6, 0.4]\n",
            "[0.38, 0.62, 0.3, 0.7]\n",
            "[0.46, 0.54, 0.43, 0.57, 0.42, 0.58, 0.3, 0.7, 0.26, 0.74, 0.29, 0.71]\n",
            "[0.15, 0.28, 0.57]\n"
          ]
        }
      ],
      "source": [
        "#Printing the probs help us to take a look at the different arrays that will serve as the network inputs\n",
        "print(prob_a20)\n",
        "print(prob_b20)\n",
        "print(prob_c20)\n",
        "print(prob_d20)"
      ]
    },
    {
      "cell_type": "code",
      "execution_count": null,
      "metadata": {
        "id": "pdvOounPrzTU"
      },
      "outputs": [],
      "source": [
        "# Create the nodes\n",
        "a_20 = BbnNode(Variable(0, 'Sat_Dem', ['No_Satisfecho', 'Satisfecho']), prob_a20)\n",
        "b_20 = BbnNode(Variable(1, 'Apoyo_Dem', ['Desacuerdo', 'De_Acuerdo']), prob_b20)\n",
        "c_20 = BbnNode(Variable(2, 'Partido', ['ALIANZA', 'MORENA', 'Nosabe']), prob_c20)\n",
        "d_20 = BbnNode(Variable(3, 'Aut_Dem', ['Autoritario', 'Democracia']), prob_d20)\n"
      ]
    },
    {
      "cell_type": "code",
      "execution_count": null,
      "metadata": {
        "id": "uNU5Nbl0rzTU"
      },
      "outputs": [],
      "source": [
        "#Create the network structure\n",
        "bbn = Bbn() \\\n",
        "    .add_node(a_20) \\\n",
        "    .add_node(b_20) \\\n",
        "    .add_node(c_20) \\\n",
        "    .add_node(d_20) \\\n",
        "    .add_edge(Edge(a_20, b_20, EdgeType.DIRECTED)) \\\n",
        "    .add_edge(Edge(b_20, c_20, EdgeType.DIRECTED)) \\\n",
        "    .add_edge(Edge(d_20, c_20, EdgeType.DIRECTED))\n",
        "\n",
        "join_tree = InferenceController.apply(bbn)"
      ]
    },
    {
      "cell_type": "code",
      "execution_count": null,
      "metadata": {
        "id": "hFb00bT1rzTU",
        "colab": {
          "base_uri": "https://localhost:8080/"
        },
        "outputId": "99849e7b-c284-418f-e593-b422f85820dc"
      },
      "outputs": [
        {
          "output_type": "stream",
          "name": "stdout",
          "text": [
            "Apoyo_Dem : Desacuerdo=0.34050, De_Acuerdo=0.65950\n",
            "Sat_Dem : No_Satisfecho=0.59937, Satisfecho=0.40063\n",
            "Partido : ALIANZA=0.36497, MORENA=0.28499, Nosabe=0.35004\n",
            "Aut_Dem : Autoritario=0.29599, Democracia=0.70401\n"
          ]
        }
      ],
      "source": [
        "#Print the posterior probabilities for the baseline network\n",
        "for node, posteriors in join_tree.get_posteriors().items():\n",
        "    p = ', '.join([f'{val}={prob:.5f}' for val, prob in posteriors.items()])\n",
        "    print(f'{node} : {p}')"
      ]
    },
    {
      "cell_type": "code",
      "execution_count": null,
      "metadata": {
        "id": "gfmcSyMprzTU",
        "colab": {
          "base_uri": "https://localhost:8080/"
        },
        "outputId": "c2ce948b-ac5c-4b2f-fca5-76c61cd64a99"
      },
      "outputs": [
        {
          "output_type": "execute_result",
          "data": {
            "text/plain": [
              "<pybbn.graph.jointree.JoinTree at 0x7f00c6d090c0>"
            ]
          },
          "metadata": {},
          "execution_count": 10
        }
      ],
      "source": [
        "#Insert an observation evidence, this can be any combination of the nodes lables\n",
        "#Subsitute node in \"get_bbn_node_by_name('')\" and with_evidence('', 1.0)\n",
        "\n",
        "ev = EvidenceBuilder() \\\n",
        "    .with_node(join_tree.get_bbn_node_by_name('Sat_Dem')) \\\n",
        "    .with_evidence('Satisfecho', 1.0) \\\n",
        "    .build()\n",
        "join_tree.set_observation(ev)"
      ]
    },
    {
      "cell_type": "code",
      "execution_count": null,
      "metadata": {
        "id": "B-Glk5mtrzTU",
        "colab": {
          "base_uri": "https://localhost:8080/"
        },
        "outputId": "da768468-bef5-41fb-fdf3-1f046dfeae4f"
      },
      "outputs": [
        {
          "output_type": "stream",
          "name": "stdout",
          "text": [
            "Apoyo_Dem : Desacuerdo=0.29307, De_Acuerdo=0.70693\n",
            "Sat_Dem : No_Satisfecho=0.00000, Satisfecho=1.00000\n",
            "Partido : ALIANZA=0.36609, MORENA=0.28364, Nosabe=0.35027\n",
            "Aut_Dem : Autoritario=0.29370, Democracia=0.70630\n"
          ]
        }
      ],
      "source": [
        "#Print the posterior probabilities with new evidence\n",
        "for node, posteriors in join_tree.get_posteriors().items():\n",
        "    p = ', '.join([f'{val}={prob:.5f}' for val, prob in posteriors.items()])\n",
        "    print(f'{node} : {p}')"
      ]
    },
    {
      "cell_type": "markdown",
      "metadata": {
        "id": "drc8k385rzTV"
      },
      "source": [
        "# Model_2018\n"
      ]
    },
    {
      "cell_type": "code",
      "execution_count": null,
      "metadata": {
        "id": "lUlpKzxJrzTV"
      },
      "outputs": [],
      "source": [
        "# Probabilities for Model_1 2018\n",
        "# For our model we have the follwing probablities, each probability has to be transformed into a numpy array so that the network can be computed\n",
        "# In this model we sustitue 'Aprobpres_cat' for 'Partido'\n",
        "\n",
        "prob2_a18 = pd.crosstab(df18['Satdem_cat'], 'Empty', margins = False,\n",
        "            normalize='columns').sort_index().to_numpy().reshape(-1).tolist()\n",
        "\n",
        "prob2_b18 = pd.crosstab(df18['Satdem_cat'],df18['ApoyoDem_cat'],\n",
        "                 margins=False, normalize='index').sort_index().to_numpy().reshape(-1).tolist()\n",
        "\n",
        "\n",
        "prob2_c18 = pd.crosstab([df18['ApoyoDem_cat'],df18['Partido_cat']],df18['DemAut_cat'],\n",
        "                 margins=False, normalize='index').sort_index().to_numpy().reshape(-1).tolist()\n",
        "\n",
        "prob2_d18 = pd.crosstab(df18['Partido_cat'], 'Empty', margins = False,\n",
        "            normalize='columns').sort_index().to_numpy().reshape(-1).tolist()"
      ]
    },
    {
      "cell_type": "code",
      "execution_count": null,
      "metadata": {
        "id": "DfQ0JBI_rzTV"
      },
      "outputs": [],
      "source": [
        "# Lets round the probabilities to two decimal points\n",
        "prob2_a18 = [ round(elem, 2) for elem in prob2_a18]\n",
        "prob2_b18 = [ round(elem, 2) for elem in prob2_b18]\n",
        "prob2_c18 = [ round(elem, 2) for elem in prob2_c18]\n",
        "prob2_d18 = [ round(elem, 2) for elem in prob2_d18]"
      ]
    },
    {
      "cell_type": "code",
      "execution_count": null,
      "metadata": {
        "id": "h1jA6suFrzTV",
        "outputId": "03819464-183c-4772-f5f7-2e030c396360",
        "colab": {
          "base_uri": "https://localhost:8080/"
        }
      },
      "outputs": [
        {
          "output_type": "stream",
          "name": "stdout",
          "text": [
            "[0.79, 0.21]\n",
            "[0.39, 0.61, 0.2, 0.8]\n",
            "[0.24, 0.76, 0.29, 0.71, 0.33, 0.67, 0.2, 0.8, 0.16, 0.84, 0.18, 0.82]\n",
            "[0.22, 0.34, 0.44]\n"
          ]
        }
      ],
      "source": [
        "#Printing the probs help us to take a look at the different arrays that will serve as the network inputs\n",
        "print(prob2_a18)\n",
        "print(prob2_b18)\n",
        "print(prob2_c18)\n",
        "print(prob2_d18)"
      ]
    },
    {
      "cell_type": "code",
      "execution_count": null,
      "metadata": {
        "id": "6ujuAMAorzTW"
      },
      "outputs": [],
      "source": [
        "# Create the nodes\n",
        "a2_18 = BbnNode(Variable(0, 'Sat_Dem', ['No_Satisfecho', 'Satisfecho']), prob2_a18)\n",
        "b2_18 = BbnNode(Variable(1, 'Apoyo_Dem', ['Desacuerdo', 'De_Acuerdo']), prob2_b18)\n",
        "c2_18 = BbnNode(Variable(2, 'Partido', ['ALIANZA', 'MORENA', 'Nosabe']), prob2_c18)\n",
        "d2_18 = BbnNode(Variable(3, 'Aut_Dem', ['Autoritario', 'Democracia']), prob2_d18)\n"
      ]
    },
    {
      "cell_type": "code",
      "execution_count": null,
      "metadata": {
        "id": "1pCPD1ZqrzTW"
      },
      "outputs": [],
      "source": [
        "# create the network structure\n",
        "bbn = Bbn() \\\n",
        "    .add_node(a2_18) \\\n",
        "    .add_node(b2_18) \\\n",
        "    .add_node(c2_18) \\\n",
        "    .add_node(d2_18) \\\n",
        "    .add_edge(Edge(a2_18, b2_18, EdgeType.DIRECTED)) \\\n",
        "    .add_edge(Edge(b2_18, c2_18, EdgeType.DIRECTED)) \\\n",
        "    .add_edge(Edge(d2_18, c2_18, EdgeType.DIRECTED))\n",
        "\n",
        "join_tree = InferenceController.apply(bbn)"
      ]
    },
    {
      "cell_type": "code",
      "execution_count": null,
      "metadata": {
        "id": "xFyDPL7arzTW",
        "outputId": "2bfceccc-f5fe-481e-cad8-d85394c1f2b6",
        "colab": {
          "base_uri": "https://localhost:8080/"
        }
      },
      "outputs": [
        {
          "output_type": "stream",
          "name": "stdout",
          "text": [
            "Apoyo_Dem : Desacuerdo=0.34605, De_Acuerdo=0.65395\n",
            "Sat_Dem : No_Satisfecho=0.78944, Satisfecho=0.21056\n",
            "Partido : ALIANZA=0.36238, MORENA=0.28786, Nosabe=0.34976\n",
            "Aut_Dem : Autoritario=0.30298, Democracia=0.69702\n"
          ]
        }
      ],
      "source": [
        "#Print the posterior probabilities for the baseline network\n",
        "for node, posteriors in join_tree.get_posteriors().items():\n",
        "    p = ', '.join([f'{val}={prob:.5f}' for val, prob in posteriors.items()])\n",
        "    print(f'{node} : {p}')"
      ]
    },
    {
      "cell_type": "code",
      "execution_count": null,
      "metadata": {
        "id": "J5dGoDCErzTW",
        "outputId": "3eafccb3-ae1b-4fd4-e3ac-67e93de6837c",
        "colab": {
          "base_uri": "https://localhost:8080/"
        }
      },
      "outputs": [
        {
          "output_type": "execute_result",
          "data": {
            "text/plain": [
              "<pybbn.graph.jointree.JoinTree at 0x7f00c6b2ab90>"
            ]
          },
          "metadata": {},
          "execution_count": 22
        }
      ],
      "source": [
        "#Insert an observation evidence, this can be any combination of the nodes lables\n",
        "#Subsitute node in \"get_bbn_node_by_name('')\" and with_evidence('', 1.0)\n",
        "\n",
        "ev = EvidenceBuilder() \\\n",
        "    .with_node(join_tree.get_bbn_node_by_name('Apoyo_Dem')) \\\n",
        "    .with_evidence('De_Acuerdo', 1.0) \\\n",
        "    .build()\n",
        "join_tree.set_observation(ev)"
      ]
    },
    {
      "cell_type": "code",
      "execution_count": null,
      "metadata": {
        "id": "C3P6L5xPrzTW",
        "outputId": "3294fe8c-81fc-4811-c859-581e1b93493f",
        "colab": {
          "base_uri": "https://localhost:8080/"
        }
      },
      "outputs": [
        {
          "output_type": "stream",
          "name": "stdout",
          "text": [
            "Apoyo_Dem : Desacuerdo=0.00000, De_Acuerdo=1.00000\n",
            "Sat_Dem : No_Satisfecho=0.00000, Satisfecho=1.00000\n",
            "Partido : ALIANZA=0.37421, MORENA=0.26930, Nosabe=0.35649\n",
            "Aut_Dem : Autoritario=0.28974, Democracia=0.71026\n"
          ]
        }
      ],
      "source": [
        "#Print the posterior probabilities with new evidence\n",
        "for node, posteriors in join_tree.get_posteriors().items():\n",
        "    p = ', '.join([f'{val}={prob:.5f}' for val, prob in posteriors.items()])\n",
        "    print(f'{node} : {p}')"
      ]
    },
    {
      "cell_type": "markdown",
      "metadata": {
        "id": "5WHWFzl-rzTW"
      },
      "source": [
        "------------------------------------------------------------------------------------------------------------------------------------------------------------------------"
      ]
    }
  ],
  "metadata": {
    "kernelspec": {
      "display_name": "base",
      "language": "python",
      "name": "python3"
    },
    "language_info": {
      "codemirror_mode": {
        "name": "ipython",
        "version": 3
      },
      "file_extension": ".py",
      "mimetype": "text/x-python",
      "name": "python",
      "nbconvert_exporter": "python",
      "pygments_lexer": "ipython3",
      "version": "3.9.13"
    },
    "orig_nbformat": 4,
    "colab": {
      "provenance": [],
      "include_colab_link": true
    }
  },
  "nbformat": 4,
  "nbformat_minor": 0
}